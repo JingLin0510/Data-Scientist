{
 "cells": [
  {
   "cell_type": "code",
   "execution_count": null,
   "metadata": {},
   "outputs": [],
   "source": [
    "import matplotlib.pyplot as plt\n",
    "# this create two objects: figure object and axes object\n",
    "fig, ax = plt.subplots()\n",
    "# figure object: container that holds everything you see on the page\n",
    "# axes object: the part of the page that holds the data. the canvas on which we will draw with our data\n",
    "ax.plot(x, y)\n",
    "plt.show()"
   ]
  },
  {
   "cell_type": "code",
   "execution_count": null,
   "metadata": {},
   "outputs": [],
   "source": [
    "ax.plot(x,y, marker='o', linestyle='--',color='r')\n",
    "ax.set_xlabel('xlabel')\n",
    "ax.set_ylabel()\n",
    "ax.set_title()"
   ]
  },
  {
   "cell_type": "code",
   "execution_count": null,
   "metadata": {},
   "outputs": [],
   "source": [
    "# 3 rows and d2 columns\n",
    "fig, ax = plt.subplots(3, 2)\n",
    "ax.shape # (3,2)\n",
    "ax[0,0].plot(x,y)\n",
    "# sharey makes all subplots have the same range of y-axis values\n",
    "plt.subplots(3, 2, sharey=True)"
   ]
  },
  {
   "cell_type": "code",
   "execution_count": null,
   "metadata": {},
   "outputs": [],
   "source": [
    "# two axes share the same x axis, but the y axes are seperate\n",
    "ax2 = ax.twinx()\n",
    "# set 'x' or 'y' to choose x ticks or y ticks\n",
    "ax.tick_params('y',  color='b')"
   ]
  },
  {
   "cell_type": "code",
   "execution_count": null,
   "metadata": {},
   "outputs": [],
   "source": [
    "ax2.annotate(\">1 degree\", xytext=(pd.Timestamp('2008-10-06'),-0.2), xy=(pd.Timestamp('2015-10-06'), 1), arrowprops={'arrowstyle':'->', 'color':'gray'})"
   ]
  },
  {
   "cell_type": "code",
   "execution_count": null,
   "metadata": {},
   "outputs": [],
   "source": [
    "# yerr is error bar\n",
    "ax.bar(x, y, bottom=, label=, yerr=)\n",
    "ax.legend()\n",
    "ax.set_xticklabels( , roration=90)"
   ]
  },
  {
   "cell_type": "code",
   "execution_count": null,
   "metadata": {},
   "outputs": [],
   "source": [
    "ax.hist(series, bins= , histtype= , label= )"
   ]
  },
  {
   "cell_type": "code",
   "execution_count": null,
   "metadata": {},
   "outputs": [],
   "source": [
    "ax.boxplot([series1, series2])\n",
    "ax.set_xticklabels(['label1', 'label2'])\n",
    "ax.set_ylabel()\n",
    "ax.errorbar(x,y,yerr=)"
   ]
  },
  {
   "cell_type": "code",
   "execution_count": null,
   "metadata": {},
   "outputs": [],
   "source": [
    "ax.scatter(x,y,c=color_series)"
   ]
  },
  {
   "cell_type": "code",
   "execution_count": null,
   "metadata": {},
   "outputs": [],
   "source": [
    "# change plot style\n",
    "plt.style.use('default')\n",
    "plt.style.use('ggplot')\n"
   ]
  },
  {
   "cell_type": "code",
   "execution_count": null,
   "metadata": {},
   "outputs": [],
   "source": [
    "fig.set_size_inches([5,3])# width,height\n",
    "fig.savefig('', quality=, dpi)\n",
    "# png, jpg, svg, \n",
    "# quality 1:100"
   ]
  },
  {
   "cell_type": "markdown",
   "metadata": {},
   "source": [
    "Dots per inch (dpi) is a measure of spatial printing, video or image scanner dot density, in particular the number of individual dots that can be placed in a line within the span of 1 inch (2.54 cm)."
   ]
  }
 ],
 "metadata": {
  "kernelspec": {
   "display_name": "Python 3",
   "language": "python",
   "name": "python3"
  },
  "language_info": {
   "codemirror_mode": {
    "name": "ipython",
    "version": 3
   },
   "file_extension": ".py",
   "mimetype": "text/x-python",
   "name": "python",
   "nbconvert_exporter": "python",
   "pygments_lexer": "ipython3",
   "version": "3.7.4"
  }
 },
 "nbformat": 4,
 "nbformat_minor": 2
}
