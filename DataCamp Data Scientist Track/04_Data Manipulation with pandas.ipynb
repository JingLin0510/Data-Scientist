{
 "cells": [
  {
   "cell_type": "code",
   "execution_count": null,
   "metadata": {},
   "outputs": [],
   "source": [
    "import pandas as pd\n",
    "df.head()\n",
    "df.info()\n",
    "df.shape\n",
    "df.describe()\n",
    "df.columns\n",
    "df.index\n",
    "df.values"
   ]
  },
  {
   "cell_type": "code",
   "execution_count": null,
   "metadata": {},
   "outputs": [],
   "source": [
    "# change the order of rows\n",
    "df.sort_values('column_name')# ascending order\n",
    "df.sort_values('column_name', ascending=False)# descending order\n",
    "# subsetting \n",
    "df[['column1']] # dataframe\n",
    "df['column1'] # series\n",
    "\n",
    "is_black_or_brown = df['color'].isin(['black', 'brown'])\n",
    "df[is_black_or_brown]\n",
    "# and & or |"
   ]
  },
  {
   "cell_type": "code",
   "execution_count": null,
   "metadata": {},
   "outputs": [],
   "source": [
    "df.column.min()\n",
    "df.column.max()\n",
    "df.column.mean()\n",
    "df.column.median()\n"
   ]
  },
  {
   "cell_type": "code",
   "execution_count": null,
   "metadata": {},
   "outputs": [],
   "source": [
    "# the .agg() method\n",
    "df[['column1', 'column2']].agg([func1, func2])\n",
    "#cumulitive sum\n",
    "df['column1'].cumsum()\n",
    "df['column1'].cummax()\n",
    "df['column1'].cummin()\n",
    "df['column1'].cumprod()"
   ]
  },
  {
   "cell_type": "code",
   "execution_count": null,
   "metadata": {},
   "outputs": [],
   "source": [
    "df.groupby('color')['weight'].mean()\n",
    "df.groupby(['color', 'breed'])[['weight', 'height']].mean()"
   ]
  },
  {
   "cell_type": "code",
   "execution_count": null,
   "metadata": {},
   "outputs": [],
   "source": [
    "sales.pivot_table(values=\"weekly_sales\", index=\"department\", columns=\"type\", fill_value=0, margins=True)"
   ]
  },
  {
   "cell_type": "code",
   "execution_count": null,
   "metadata": {},
   "outputs": [],
   "source": [
    "df = df.set_index('column1')\n",
    "df.reset_index(drop=True)# if drop is true,  the index column will be removed\n",
    "# inner index level\n",
    "df.loc[[('row1_index1', 'row1_index2'),('row2_index1', 'row2_index2')]]\n",
    "df.sort_index(level='index1', ascending=False)\n",
    "df.sort_index(level=['index1','index2'], ascending=[True, False])"
   ]
  },
  {
   "cell_type": "markdown",
   "metadata": {},
   "source": [
    "You can only slice an index if the index is sorted (using .sort_index()).\n",
    "To slice at the outer level, first and last can be strings.\n",
    "To slice at inner levels, first and last should be tuples.\n",
    "If you pass a single slice to .loc[], it will slice the rows."
   ]
  },
  {
   "cell_type": "code",
   "execution_count": null,
   "metadata": {},
   "outputs": [],
   "source": [
    "df.isna()\n",
    "df.isna().any()\n",
    "df.isna().sum()"
   ]
  },
  {
   "cell_type": "code",
   "execution_count": null,
   "metadata": {},
   "outputs": [],
   "source": [
    "# a list of dictionaries\n",
    "# create row by row\n",
    "list_of_dicts = [\n",
    "    {'date': \"2019-11-03\", 'small_sold': 10376832, 'large_sold': 7835071},\n",
    "    {'date': \"2019-11-10\", 'small_sold': 10717154, 'large_sold': 8561348},\n",
    "]\n",
    "df = pd.DataFrame(list_of_dicts)\n",
    "\n",
    "# a dictionary of lists\n",
    "# create column by column\n",
    "dict_of lists = {, , ,}"
   ]
  }
 ],
 "metadata": {
  "kernelspec": {
   "display_name": "Python 3",
   "language": "python",
   "name": "python3"
  },
  "language_info": {
   "codemirror_mode": {
    "name": "ipython",
    "version": 3
   },
   "file_extension": ".py",
   "mimetype": "text/x-python",
   "name": "python",
   "nbconvert_exporter": "python",
   "pygments_lexer": "ipython3",
   "version": "3.7.4"
  }
 },
 "nbformat": 4,
 "nbformat_minor": 2
}
