{
 "cells": [
  {
   "cell_type": "markdown",
   "metadata": {},
   "source": [
    "# read a plain txt file"
   ]
  },
  {
   "cell_type": "code",
   "execution_count": 11,
   "metadata": {},
   "outputs": [
    {
     "name": "stdout",
     "output_type": "stream",
     "text": [
      "hello\n",
      "world\n",
      "it\n",
      "is\n",
      "a \n",
      "beautiful \n",
      "day\n",
      "!\n"
     ]
    }
   ],
   "source": [
    "#open a txt file, do not forget suffix\n",
    "file = open('filename.txt', mode = 'r')\n",
    "#apply read method on this file\n",
    "txt = file.read()\n",
    "#check file condition\n",
    "file.closed\n",
    "#print contents\n",
    "print(txt)\n",
    "#close file\n",
    "file.close()"
   ]
  },
  {
   "cell_type": "code",
   "execution_count": 13,
   "metadata": {},
   "outputs": [
    {
     "name": "stdout",
     "output_type": "stream",
     "text": [
      "world\n",
      "\n"
     ]
    }
   ],
   "source": [
    "# use context manager where variable is bound to open()\n",
    "with open('filename.txt', mode = 'r') as file:\n",
    "    file.readline()\n",
    "    print(file.readline())"
   ]
  },
  {
   "cell_type": "markdown",
   "metadata": {},
   "source": [
    "# read a flat file"
   ]
  },
  {
   "cell_type": "code",
   "execution_count": 19,
   "metadata": {},
   "outputs": [
    {
     "name": "stdout",
     "output_type": "stream",
     "text": [
      "[[ 0.2339  -0.67449]\n",
      " [ 0.2339  -0.67449]\n",
      " [ 0.2339  -0.67449]\n",
      " [ 0.2339  -0.67449]\n",
      " [ 1.4021  -0.67449]\n",
      " [ 1.4021  -0.67449]\n",
      " [ 1.4021  -0.67449]\n",
      " [ 1.4021  -0.67449]\n",
      " [ 1.3709  -0.67449]\n",
      " [ 1.3709  -0.67449]\n",
      " [ 1.3709  -0.67449]\n",
      " [ 1.3709  -0.67449]\n",
      " [ 0.5434  -0.67449]\n",
      " [ 0.5434  -0.67449]\n",
      " [ 0.5434  -0.67449]\n",
      " [ 0.5434  -0.67449]\n",
      " [ 0.0901  -0.67449]\n",
      " [ 0.0901  -0.67449]\n",
      " [ 0.0901  -0.67449]\n",
      " [ 0.0901  -0.67449]]\n"
     ]
    },
    {
     "data": {
      "text/plain": [
       "(20, 2)"
      ]
     },
     "execution_count": 19,
     "metadata": {},
     "output_type": "execute_result"
    }
   ],
   "source": [
    "import numpy as np\n",
    "#read a csv file by numpy\n",
    "file = 'filename.csv'\n",
    "data = np.loadtxt(file, delimiter=',', skiprows=5, usecols=[1,2], dtype=None)\n",
    "print(data)\n",
    "data.shape"
   ]
  },
  {
   "cell_type": "code",
   "execution_count": null,
   "metadata": {},
   "outputs": [],
   "source": [
    "#default dtype of recfromcsv is None\n",
    "data = np.recfromcsv(file, delimiter = ',', names = True)"
   ]
  },
  {
   "cell_type": "code",
   "execution_count": null,
   "metadata": {},
   "outputs": [],
   "source": []
  }
 ],
 "metadata": {
  "kernelspec": {
   "display_name": "Python 3",
   "language": "python",
   "name": "python3"
  },
  "language_info": {
   "codemirror_mode": {
    "name": "ipython",
    "version": 3
   },
   "file_extension": ".py",
   "mimetype": "text/x-python",
   "name": "python",
   "nbconvert_exporter": "python",
   "pygments_lexer": "ipython3",
   "version": "3.7.4"
  }
 },
 "nbformat": 4,
 "nbformat_minor": 2
}
