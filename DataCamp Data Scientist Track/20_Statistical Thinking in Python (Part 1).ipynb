{
 "cells": [
  {
   "cell_type": "markdown",
   "metadata": {},
   "source": [
    "# Exploratory Data Analysis (EDA)\n",
    "tabular form -> graphical/quantitative EDA"
   ]
  },
  {
   "cell_type": "code",
   "execution_count": null,
   "metadata": {},
   "outputs": [],
   "source": [
    "# dummy variable -> underscore\n",
    "_ = plt.hist(df['column'], bins= int_number)\n",
    "# always label axes"
   ]
  },
  {
   "cell_type": "code",
   "execution_count": null,
   "metadata": {},
   "outputs": [],
   "source": [
    "import matplotlib.pyplot as plt\n",
    "import seaborn as sns\n",
    "sns.set()\n",
    "sns.swarmplot(data=df, x='',y='')"
   ]
  },
  {
   "cell_type": "markdown",
   "metadata": {},
   "source": [
    "# Emperical cumulative distributiom function (ECDF)\n",
    "经验累积分布函数"
   ]
  },
  {
   "cell_type": "code",
   "execution_count": null,
   "metadata": {},
   "outputs": [],
   "source": [
    "def ecdf(data):\n",
    "    \"\"\"Compute ECDF for a one-dimensional array of measurements.\"\"\"\n",
    "    # Number of data points: n\n",
    "    n = len(data)\n",
    "\n",
    "    # x-data for the ECDF: x\n",
    "    x = np.sort(data)\n",
    "\n",
    "    # y-data for the ECDF: y\n",
    "    y = np.arange(1, n+1) / n\n",
    "\n",
    "    return x, y\n",
    "x,y=ecdf(df['column'])\n",
    "plt.plot(x,y,marker='.',linestyle='none')# make it seperate plot\n",
    "# Y轴坐标相当于横坐标数据的index "
   ]
  },
  {
   "cell_type": "markdown",
   "metadata": {},
   "source": [
    "quantile 分位数\n",
    "interquatile range (IQR)\n",
    "variance and standard deviation\n",
    "covariance 协方差 and the pearson correlation coefficient"
   ]
  },
  {
   "cell_type": "code",
   "execution_count": null,
   "metadata": {},
   "outputs": [],
   "source": [
    "np.percentile(df['column'], [20, 50, 75])\n",
    "\n",
    "np.var()\n",
    "np.stn()\n",
    "\n",
    "np.cov(x,y)\n",
    "np.correcoef(x,y)"
   ]
  },
  {
   "cell_type": "code",
   "execution_count": null,
   "metadata": {},
   "outputs": [],
   "source": [
    "#random number generator and hacker statistics\n",
    "np.random.seed(1)\n",
    "np.random.random(size=100)\n",
    "np.empty(100)"
   ]
  },
  {
   "cell_type": "markdown",
   "metadata": {},
   "source": [
    "# probability mass function (PMF) \n",
    "is the set of probabilities of discrete outcomes"
   ]
  },
  {
   "cell_type": "code",
   "execution_count": null,
   "metadata": {},
   "outputs": [],
   "source": [
    "n_defaults = np.random.binomial(n,p,size)\n",
    "# center bins to integers\n",
    "bins = np.arange(0, max(n_defaults) + 1.5) - 0.5\n",
    "plt.hist(n_defaults, bins=bins, normed=True) # y axis is probalility is set normed\n",
    "# "
   ]
  },
  {
   "cell_type": "markdown",
   "metadata": {},
   "source": [
    "# Binomial cumulative distribution function (binomial CDF)"
   ]
  },
  {
   "cell_type": "code",
   "execution_count": null,
   "metadata": {},
   "outputs": [],
   "source": [
    "x,y = ecdf(n_defaults)"
   ]
  },
  {
   "cell_type": "markdown",
   "metadata": {},
   "source": [
    "# Poisson Processes and poisson distribution\n",
    "the timing of the next event is completely independent of when the previous event happened </br>\n",
    "\n",
    "the number of arrivals of a poisson process in a given amount of time is poisson distributed"
   ]
  },
  {
   "cell_type": "markdown",
   "metadata": {},
   "source": [
    "# Poisson CDF"
   ]
  },
  {
   "cell_type": "markdown",
   "metadata": {},
   "source": [
    "# probability density function (PDF)\n",
    "continuous analog to the PMF"
   ]
  },
  {
   "cell_type": "code",
   "execution_count": null,
   "metadata": {},
   "outputs": [],
   "source": [
    "samples = np.random.normal(mean, std, size)\n",
    "plt.hist(samples, normed=True, histtype='step', bins=100)# histtype makes it look like normal distribution\n"
   ]
  },
  {
   "cell_type": "markdown",
   "metadata": {},
   "source": [
    "# normal CDF"
   ]
  },
  {
   "cell_type": "markdown",
   "metadata": {},
   "source": [
    "# exponential distribution\n",
    "小概率事件，发生的时机符合泊松分布，等待时间符合指数分布"
   ]
  },
  {
   "cell_type": "code",
   "execution_count": null,
   "metadata": {},
   "outputs": [],
   "source": [
    "np.random.exponential()"
   ]
  }
 ],
 "metadata": {
  "kernelspec": {
   "display_name": "Python 3",
   "language": "python",
   "name": "python3"
  },
  "language_info": {
   "codemirror_mode": {
    "name": "ipython",
    "version": 3
   },
   "file_extension": ".py",
   "mimetype": "text/x-python",
   "name": "python",
   "nbconvert_exporter": "python",
   "pygments_lexer": "ipython3",
   "version": "3.7.4"
  }
 },
 "nbformat": 4,
 "nbformat_minor": 2
}
