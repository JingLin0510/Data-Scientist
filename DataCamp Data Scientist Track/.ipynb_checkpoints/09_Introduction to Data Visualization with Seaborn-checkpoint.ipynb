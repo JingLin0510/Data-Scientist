{
 "cells": [
  {
   "cell_type": "code",
   "execution_count": null,
   "metadata": {},
   "outputs": [],
   "source": [
    "import seaborn as sns\n",
    "import matplotlib.pyplot as plt\n",
    "import pandas as pd\n",
    "sns.scatterplot(x,y)\n",
    "sns.countplot(x)"
   ]
  },
  {
   "cell_type": "code",
   "execution_count": null,
   "metadata": {},
   "outputs": [],
   "source": [
    "# work well with tidy data\n",
    "# countplot for df\n",
    "sns.scatterplot(x='column1',y='column2',data)\n",
    "sns.countplot(x='column', data=df)"
   ]
  },
  {
   "cell_type": "code",
   "execution_count": null,
   "metadata": {},
   "outputs": [],
   "source": [
    "sns.scatterplot(x='column1',y='column2',data,hue='column3',palette={})"
   ]
  },
  {
   "cell_type": "code",
   "execution_count": null,
   "metadata": {},
   "outputs": [],
   "source": [
    "sns.relplot(x=\"G1\", y=\"G3\", \n",
    "            data=student_data,\n",
    "            kind=\"scatter\", \n",
    "            col=\"schoolsup\",\n",
    "            col_order=[\"yes\", \"no\"],\n",
    "            row='famsup',\n",
    "            row_order=['yes', 'no'])"
   ]
  },
  {
   "cell_type": "code",
   "execution_count": null,
   "metadata": {},
   "outputs": [],
   "source": [
    "sns.relplot(x=\"horsepower\", y=\"mpg\", \n",
    "            data=mpg, kind=\"scatter\", \n",
    "            size=\"cylinders\", hue='cylinders')"
   ]
  },
  {
   "cell_type": "code",
   "execution_count": null,
   "metadata": {},
   "outputs": [],
   "source": [
    "sns.relplot(x='acceleration', y='mpg', data=mpg, \n",
    "            kind='scatter', style='origin', hue='origin')"
   ]
  },
  {
   "cell_type": "code",
   "execution_count": null,
   "metadata": {},
   "outputs": [],
   "source": [
    "#kinds of catogorical plots: count, bar, box, point\n",
    "sns.catplot(x=\"romantic\", y=\"G3\",\n",
    "            data=student_data,\n",
    "            kind=\"box\",\n",
    "            whis=[5, 95],# default is 1.5IQR\n",
    "            sym=\"\")# omit outliers"
   ]
  },
  {
   "cell_type": "code",
   "execution_count": null,
   "metadata": {},
   "outputs": [],
   "source": [
    "from numpy import median\n",
    "# Plot the median number of absences instead of the mean\n",
    "sns.catplot(x=\"romantic\", y=\"absences\",\n",
    "            data=student_data,\n",
    "            kind=\"point\",\n",
    "            hue=\"school\",\n",
    "            ci=None,\n",
    "            estimator=median)"
   ]
  },
  {
   "cell_type": "code",
   "execution_count": null,
   "metadata": {},
   "outputs": [],
   "source": [
    "sns.set_style()\n",
    "sns.set_palette()\n",
    "sns.set_context()# size of scale"
   ]
  },
  {
   "cell_type": "markdown",
   "metadata": {},
   "source": [
    "type of plot: FacetGrid, AxesSubplot"
   ]
  },
  {
   "cell_type": "code",
   "execution_count": null,
   "metadata": {},
   "outputs": [],
   "source": [
    "# for FacetGrid\n",
    "g.fig.suptitle('title', y=)\n",
    "# for AxesSubplot\n",
    "g.fig.suptitle()\n",
    "g.set_title()# title for each subplot\n",
    "# for both\n",
    "g.set(xlabel=, ylabel=)"
   ]
  }
 ],
 "metadata": {
  "kernelspec": {
   "display_name": "Python 3",
   "language": "python",
   "name": "python3"
  },
  "language_info": {
   "codemirror_mode": {
    "name": "ipython",
    "version": 3
   },
   "file_extension": ".py",
   "mimetype": "text/x-python",
   "name": "python",
   "nbconvert_exporter": "python",
   "pygments_lexer": "ipython3",
   "version": "3.7.4"
  }
 },
 "nbformat": 4,
 "nbformat_minor": 2
}
