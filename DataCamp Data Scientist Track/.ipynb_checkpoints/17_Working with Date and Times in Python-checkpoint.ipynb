{
 "cells": [
  {
   "cell_type": "code",
   "execution_count": null,
   "metadata": {},
   "outputs": [],
   "source": [
    "from datetime import date\n",
    "date1 = date(2020,3,29)\n",
    "date1.year\n",
    "date1.month\n",
    "date1.day\n",
    "date1.weekday()"
   ]
  },
  {
   "cell_type": "code",
   "execution_count": null,
   "metadata": {},
   "outputs": [],
   "source": [
    "# subtracting dates\n",
    "start = date(2007, 5, 9)\n",
    "end = date(2007, 12, 13)\n",
    "print((end - start).days)"
   ]
  },
  {
   "cell_type": "code",
   "execution_count": null,
   "metadata": {},
   "outputs": [],
   "source": [
    "first_date = min(florida_hurricane_dates)\n",
    "# Convert to ISO and US formats\n",
    "iso = \"Our earliest hurricane date: \" + first_date.isoformat()\n",
    "us = \"Our earliest hurricane date: \" + first_date.strftime(\"%m/%d/%Y\")\n",
    "first_date.strftime('%Y-%m')"
   ]
  },
  {
   "cell_type": "code",
   "execution_count": null,
   "metadata": {},
   "outputs": [],
   "source": [
    "# A timedelta object represents a duration\n",
    "# the difference between two dates or times\n",
    "from datetime import timedelta\n",
    "duration = timedelta(days=40)\n",
    "date2= date1 + duration"
   ]
  },
  {
   "cell_type": "code",
   "execution_count": null,
   "metadata": {},
   "outputs": [],
   "source": [
    "from datetime import datetime\n",
    "# Y m d H M S\n",
    "dt = datetime(2017, 12, 31, 15, 19, 13)\n",
    "dt_old = dt.replace(year=1917)"
   ]
  },
  {
   "cell_type": "code",
   "execution_count": null,
   "metadata": {},
   "outputs": [],
   "source": [
    "dt.strftime()\n",
    "dt.strftime()\n",
    "dt.isoformat()\n",
    "# parse date from strings\n",
    "# string parse time\n",
    "dt = datetime.strptime(string, '%Y %m %d %H:%M:%S')"
   ]
  },
  {
   "cell_type": "markdown",
   "metadata": {},
   "source": [
    "many computers stores datetime information behind the scenes as the number of seconds since January 1, 1970"
   ]
  },
  {
   "cell_type": "code",
   "execution_count": null,
   "metadata": {},
   "outputs": [],
   "source": [
    "datetime.fromtimestamp(ts)\n",
    "trip_duration = trip['end'] - trip['start']\n",
    "# Get the total elapsed seconds in trip_duration\n",
    "trip_length_seconds = trip_duration.total_seconds()"
   ]
  },
  {
   "cell_type": "code",
   "execution_count": null,
   "metadata": {},
   "outputs": [],
   "source": [
    "from datetime import timezone\n",
    "ET = timezone(timedelta(hours=5m, minutes=30)\n",
    "dt = datetime(1999, 10, 10, 10, 10, 10, tzinfo=timezone.utc)\n",
    "dt.astimezone(ET)"
   ]
  },
  {
   "cell_type": "code",
   "execution_count": null,
   "metadata": {},
   "outputs": [],
   "source": [
    "from dateutil import tz\n",
    "et = tz.gettz('America/New_York')\n",
    "dt.astimezone(tz.UTC)"
   ]
  },
  {
   "cell_type": "markdown",
   "metadata": {},
   "source": [
    "seconds is the number of seconds within a day, which is in [0, 86399]. total_seconds is the entire timedelta converted to seconds, and can be any value, for example 604800.0 for one week, or 0.1 for 100 milliseconds."
   ]
  },
  {
   "cell_type": "code",
   "execution_count": null,
   "metadata": {},
   "outputs": [],
   "source": [
    "# attribute\n",
    "(end - start).days\n",
    "(end - start).hours\n",
    "(end - start).seconds # [0, 24*60*60-1]\n",
    "# method\n",
    "(end - start).total_seconds()"
   ]
  },
  {
   "cell_type": "code",
   "execution_count": null,
   "metadata": {},
   "outputs": [],
   "source": [
    "tz.datetime_ambiguous(first_1am) # True or False\n",
    "second_1am = tz.enfold(first_1am)\n",
    "# do math in utc"
   ]
  },
  {
   "cell_type": "code",
   "execution_count": null,
   "metadata": {},
   "outputs": [],
   "source": [
    "# methods chain\n",
    "df['duration']\\\n",
    ".dt.total_seconds()\\\n",
    ".head(5)"
   ]
  },
  {
   "cell_type": "code",
   "execution_count": null,
   "metadata": {},
   "outputs": [],
   "source": [
    "rides['start date'].dt.tz_localize('America/New_York')\n",
    "rides['start date'].dt.tz_localize('America/New_York', ambiguous='NaT')\n",
    "rides['Start date'].dt.tz_convert('Europe/London')\n",
    "rides.resample('M', on='start time')"
   ]
  },
  {
   "cell_type": "code",
   "execution_count": null,
   "metadata": {},
   "outputs": [],
   "source": [
    "# Import pandas\n",
    "import pandas as pd\n",
    "# Load CSV into the rides variable\n",
    "rides = pd.read_csv('capital-onebike.csv', \n",
    "                    parse_dates = ['Start date', 'End date'])\n",
    "# Print the initial (0th) row\n",
    "print(rides.iloc[0])\n",
    "# Subtract the start date from the end date\n",
    "ride_durations = rides['End date'] - rides['Start date']\n",
    "# Convert the results to seconds\n",
    "rides['Duration'] = ride_durations.dt.total_seconds()\n",
    "print(rides['Duration'].head())"
   ]
  }
 ],
 "metadata": {
  "kernelspec": {
   "display_name": "Python 3",
   "language": "python",
   "name": "python3"
  },
  "language_info": {
   "codemirror_mode": {
    "name": "ipython",
    "version": 3
   },
   "file_extension": ".py",
   "mimetype": "text/x-python",
   "name": "python",
   "nbconvert_exporter": "python",
   "pygments_lexer": "ipython3",
   "version": "3.7.4"
  }
 },
 "nbformat": 4,
 "nbformat_minor": 2
}
