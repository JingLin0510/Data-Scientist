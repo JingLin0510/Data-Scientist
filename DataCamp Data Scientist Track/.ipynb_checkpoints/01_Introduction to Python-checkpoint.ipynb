{
 "cells": [
  {
   "cell_type": "markdown",
   "metadata": {},
   "source": [
    "# concatenate string  "
   ]
  },
  {
   "cell_type": "code",
   "execution_count": 5,
   "metadata": {},
   "outputs": [
    {
     "name": "stdout",
     "output_type": "stream",
     "text": [
      "hello world!\n"
     ]
    }
   ],
   "source": [
    "# use sum operator to connect strings\n",
    "print('hello' + ' ' + 'world' + '!')"
   ]
  },
  {
   "cell_type": "markdown",
   "metadata": {},
   "source": [
    "# subsetting list"
   ]
  },
  {
   "cell_type": "code",
   "execution_count": 6,
   "metadata": {},
   "outputs": [
    {
     "name": "stdout",
     "output_type": "stream",
     "text": [
      "1\n",
      "6\n"
     ]
    }
   ],
   "source": [
    "lst = [1, 2, 3, 4, 5, 6]\n",
    "# index of the 1st element is 0\n",
    "print(lst[0])\n",
    "# index of the last element is -1\n",
    "print(lst[-1])"
   ]
  },
  {
   "cell_type": "markdown",
   "metadata": {},
   "source": [
    "# extend list"
   ]
  },
  {
   "cell_type": "code",
   "execution_count": 8,
   "metadata": {},
   "outputs": [
    {
     "name": "stdout",
     "output_type": "stream",
     "text": [
      "[1, 2, 3, 4, 5, 6, 7, 8, 9]\n"
     ]
    }
   ],
   "source": [
    "# append new elements to a list\n",
    "print(lst + [7, 8, 9])"
   ]
  },
  {
   "cell_type": "markdown",
   "metadata": {},
   "source": [
    "# delete list elements"
   ]
  },
  {
   "cell_type": "code",
   "execution_count": 11,
   "metadata": {},
   "outputs": [
    {
     "name": "stdout",
     "output_type": "stream",
     "text": [
      "[1, 2, 3, 4, 5, 6]\n",
      "[1, 2, 3, 4, 5]\n"
     ]
    }
   ],
   "source": [
    "print(lst)\n",
    "del(lst[-1])\n",
    "print(lst)"
   ]
  },
  {
   "cell_type": "markdown",
   "metadata": {},
   "source": [
    "# in-place VS not-in-place && python list VS numpy array"
   ]
  },
  {
   "cell_type": "code",
   "execution_count": 34,
   "metadata": {},
   "outputs": [
    {
     "name": "stdout",
     "output_type": "stream",
     "text": [
      "[1, 2, 3] [1, 2, 3]\n",
      "[1, 2, 3, 4, 5, 6] [1, 2, 3]\n"
     ]
    }
   ],
   "source": [
    "# '+' is not-in-place operation in python list \n",
    "lst1 = [1, 2, 3]\n",
    "lst3 = lst1\n",
    "print(lst1, lst3)\n",
    "\n",
    "lst2 = [4, 5, 6]\n",
    "lst1 = lst1 + lst2\n",
    "print(lst1, lst3)"
   ]
  },
  {
   "cell_type": "code",
   "execution_count": 35,
   "metadata": {},
   "outputs": [
    {
     "name": "stdout",
     "output_type": "stream",
     "text": [
      "[1, 2, 3] [1, 2, 3]\n",
      "[1, 2, 3, 4, 5, 6] [1, 2, 3, 4, 5, 6]\n"
     ]
    }
   ],
   "source": [
    "# '+=' is in-place operation in python list\n",
    "lst1 = [1, 2, 3]\n",
    "lst3 = lst1\n",
    "print(lst1, lst3)\n",
    "\n",
    "lst2 = [4, 5, 6]\n",
    "lst1 += lst2\n",
    "print(lst1, lst3)"
   ]
  },
  {
   "cell_type": "code",
   "execution_count": 43,
   "metadata": {},
   "outputs": [
    {
     "name": "stdout",
     "output_type": "stream",
     "text": [
      "[1, 2, 3] [2, 3]\n",
      "[1, 0, 3] [2, 3]\n",
      "[1, 2, 3] [2, 3]\n",
      "[1, 2, 3] [0, 3]\n"
     ]
    }
   ],
   "source": [
    "# slicing is not-in-place operation in python list\n",
    "lst1 = [1, 2, 3]\n",
    "lst2 = lst1[1:]\n",
    "print(lst1, lst2)\n",
    "lst1[1] = 0\n",
    "print(lst1, lst2)\n",
    "\n",
    "lst3 = [1, 2, 3]\n",
    "lst4 = lst3[1:]\n",
    "print(lst3, lst4)\n",
    "lst4[0] = 0\n",
    "print(lst3, lst4)"
   ]
  },
  {
   "cell_type": "code",
   "execution_count": null,
   "metadata": {},
   "outputs": [],
   "source": [
    "import numpy as np"
   ]
  },
  {
   "cell_type": "code",
   "execution_count": 31,
   "metadata": {},
   "outputs": [
    {
     "name": "stdout",
     "output_type": "stream",
     "text": [
      "[1 2 3] [1 2 3]\n",
      "[2 3 4] [1 2 3]\n"
     ]
    }
   ],
   "source": [
    "# '+' is not-in-place operation in numpy array\n",
    "array1 = np.array([1,2,3])\n",
    "array3 = array1\n",
    "print(array1, array3)\n",
    "\n",
    "array2 = np.array([1, 1, 1])\n",
    "array1 = array1 + array2\n",
    "print(array1, array3)"
   ]
  },
  {
   "cell_type": "code",
   "execution_count": 36,
   "metadata": {},
   "outputs": [
    {
     "name": "stdout",
     "output_type": "stream",
     "text": [
      "[1 2 3] [1 2 3]\n",
      "[2 3 4] [2 3 4]\n"
     ]
    }
   ],
   "source": [
    "# '+=' is in-place operation in numpy array\n",
    "array1 = np.array([1,2,3])\n",
    "array3 = array1\n",
    "print(array1, array3)\n",
    "\n",
    "array2 = np.array([1, 1, 1])\n",
    "array1 += array2\n",
    "print(array1, array3)"
   ]
  },
  {
   "cell_type": "code",
   "execution_count": 42,
   "metadata": {},
   "outputs": [
    {
     "name": "stdout",
     "output_type": "stream",
     "text": [
      "[1 2 3] [2 3]\n",
      "[1 0 3] [0 3]\n",
      "[1 2 3] [2 3]\n",
      "[1 0 3] [0 3]\n"
     ]
    }
   ],
   "source": [
    "# slicing is in-place-operation in numpy array\n",
    "array1 = np.array([1,2,3])\n",
    "array2 = array1[1:]\n",
    "print(array1, array2)\n",
    "\n",
    "array1[1] = 0\n",
    "print(array1, array2)\n",
    "\n",
    "array3 = np.array([1,2,3])\n",
    "array4 = array3[1:]\n",
    "print(array3, array4)\n",
    "\n",
    "array4[0] = 0\n",
    "print(array3, array4)"
   ]
  },
  {
   "cell_type": "markdown",
   "metadata": {},
   "source": [
    "# sorted function"
   ]
  },
  {
   "cell_type": "code",
   "execution_count": 49,
   "metadata": {},
   "outputs": [
    {
     "name": "stdout",
     "output_type": "stream",
     "text": [
      "Help on built-in function sorted in module builtins:\n",
      "\n",
      "sorted(iterable, /, *, key=None, reverse=False)\n",
      "    Return a new list containing all items from the iterable in ascending order.\n",
      "    \n",
      "    A custom key function can be supplied to customize the sort order, and the\n",
      "    reverse flag can be set to request the result in descending order.\n",
      "\n",
      "[1, 0, 3, 1.3, 8]\n",
      "[8, 3, 1.3, 1, 0]\n"
     ]
    }
   ],
   "source": [
    "help(sorted)\n",
    "lst = [1, 0, 3, 1.3, 8]\n",
    "print(lst)\n",
    "lst = sorted(lst, reverse=True)\n",
    "print(lst)"
   ]
  },
  {
   "cell_type": "markdown",
   "metadata": {},
   "source": [
    "# methods"
   ]
  },
  {
   "cell_type": "code",
   "execution_count": 55,
   "metadata": {},
   "outputs": [
    {
     "name": "stdout",
     "output_type": "stream",
     "text": [
      "HELLO\n",
      "2\n"
     ]
    }
   ],
   "source": [
    "string = 'hello'\n",
    "string = string.upper()\n",
    "print(string)\n",
    "print(string.count('L'))"
   ]
  },
  {
   "cell_type": "code",
   "execution_count": 63,
   "metadata": {},
   "outputs": [
    {
     "name": "stdout",
     "output_type": "stream",
     "text": [
      "1\n",
      "2\n",
      "[1, 2, 3, 3, 4, 5, 9]\n",
      "[9, 5, 4, 3, 3, 2, 1]\n"
     ]
    }
   ],
   "source": [
    "lst = [1, 2, 3, 3, 4, 5]\n",
    "print(lst.index(2))\n",
    "print(lst.count(3))\n",
    "lst.append(9)\n",
    "print(lst)\n",
    "lst.reverse()\n",
    "print(lst)"
   ]
  },
  {
   "cell_type": "code",
   "execution_count": null,
   "metadata": {},
   "outputs": [],
   "source": []
  }
 ],
 "metadata": {
  "kernelspec": {
   "display_name": "Python 3",
   "language": "python",
   "name": "python3"
  },
  "language_info": {
   "codemirror_mode": {
    "name": "ipython",
    "version": 3
   },
   "file_extension": ".py",
   "mimetype": "text/x-python",
   "name": "python",
   "nbconvert_exporter": "python",
   "pygments_lexer": "ipython3",
   "version": "3.7.4"
  }
 },
 "nbformat": 4,
 "nbformat_minor": 2
}
