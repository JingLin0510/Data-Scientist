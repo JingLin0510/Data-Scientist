{
 "cells": [
  {
   "cell_type": "code",
   "execution_count": null,
   "metadata": {},
   "outputs": [],
   "source": [
    "# analysis friendly format\n",
    "# columns containing values instead of variables\n",
    "# melt more than one column into one column\n",
    "pd.melt(df, id_vars='', value_vars=['', ''], var_name='', value_name='')\n",
    "# id_var is unchanged column\n",
    "# value_vars is list of melted columns"
   ]
  },
  {
   "cell_type": "code",
   "execution_count": null,
   "metadata": {},
   "outputs": [],
   "source": [
    "# reporting friendly format\n",
    "df.pivot()\n",
    "# has a parameter that specifies how to deal with duplicate values\n",
    "df_pivot = df.pivot_table( index='date', columns='time', values='power', aggfunc=np.mean)\n",
    "df_pivot = df_pivot.reset_index()\n"
   ]
  },
  {
   "cell_type": "code",
   "execution_count": null,
   "metadata": {},
   "outputs": [],
   "source": [
    "# concatenate many dataframes as one\n",
    "pd.concat([df1, df2, df3], ignore_index=True)"
   ]
  },
  {
   "cell_type": "code",
   "execution_count": 13,
   "metadata": {},
   "outputs": [],
   "source": [
    "# load multiple files\n",
    "import glob\n",
    "import pandas as pd\n",
    "csv_files = glob.glob('dataset/*.csv')\n",
    "df_list = []\n",
    "for file in csv_files:\n",
    "    df = pd.read_csv(file)\n",
    "    df_list.append(df)\n"
   ]
  },
  {
   "cell_type": "code",
   "execution_count": null,
   "metadata": {},
   "outputs": [],
   "source": [
    "# string\n",
    "df['NewColumn'] = df.variable.str[0]\n",
    "df['NewColumn'] = df.variable.str.split('_')"
   ]
  },
  {
   "cell_type": "code",
   "execution_count": null,
   "metadata": {},
   "outputs": [],
   "source": [
    "pd.merge(left=df1, right=df2, on=None, left_on='column1', right_on='column2')\n",
    "# on=True is columns names are the same"
   ]
  },
  {
   "cell_type": "code",
   "execution_count": null,
   "metadata": {},
   "outputs": [],
   "source": [
    "# change dtype in df\n",
    "df.dtypes\n",
    "df['column'] = df['column'].astype(str)\n",
    "df['column'] = pd.to_numeric(df['column'], errors='coerce')"
   ]
  },
  {
   "cell_type": "code",
   "execution_count": null,
   "metadata": {},
   "outputs": [],
   "source": [
    "# regular expression\n",
    "import re\n",
    "pattern = re.compile('\\$\\d*\\.\\d{2}')\n",
    "result = pattern.match('$12.60')\n",
    "bool(result)\n",
    "\n",
    "matches = re.findall('\\d+', 'the recipe calls for 10 strawberries and 1 banana')\n",
    "# [A-Z]\\w*"
   ]
  },
  {
   "cell_type": "code",
   "execution_count": null,
   "metadata": {},
   "outputs": [],
   "source": [
    "#apply()\n",
    "df['column'].apply(lambda x: x.replace('_', ''))"
   ]
  },
  {
   "cell_type": "code",
   "execution_count": null,
   "metadata": {},
   "outputs": [],
   "source": [
    "# duplicate values\n",
    "df.drop_duplicates()\n",
    "# missing valules\n",
    "# (1) leave as-is \n",
    "# (2) drop them\n",
    "# (3) fill missing values\n",
    "# check missing values by df.info()\n",
    "df.dropnan()\n",
    "df.fillna(0)\n",
    "df.fillna(mean_value)"
   ]
  },
  {
   "cell_type": "code",
   "execution_count": null,
   "metadata": {},
   "outputs": [],
   "source": [
    "# double square bracket -> dataframe\n",
    "df[['column']] # is dataframe\n",
    "df['column']   # is series"
   ]
  },
  {
   "cell_type": "code",
   "execution_count": null,
   "metadata": {},
   "outputs": [],
   "source": [
    "# assert\n",
    "df.notnull().all().all()\n",
    "# if true, nothing returned\n",
    "# if false, return error"
   ]
  },
  {
   "cell_type": "code",
   "execution_count": null,
   "metadata": {},
   "outputs": [],
   "source": [
    "# count total values for each observation\n",
    "df.column.value_counts()\n",
    "# Count non-NA cells for each column or row\n",
    "df.column.counts()"
   ]
  },
  {
   "cell_type": "code",
   "execution_count": null,
   "metadata": {},
   "outputs": [],
   "source": [
    "# axis=0, by rows, 纵向\n",
    "# axis=1, by columns, 横向"
   ]
  }
 ],
 "metadata": {
  "kernelspec": {
   "display_name": "Python 3",
   "language": "python",
   "name": "python3"
  },
  "language_info": {
   "codemirror_mode": {
    "name": "ipython",
    "version": 3
   },
   "file_extension": ".py",
   "mimetype": "text/x-python",
   "name": "python",
   "nbconvert_exporter": "python",
   "pygments_lexer": "ipython3",
   "version": "3.7.4"
  }
 },
 "nbformat": 4,
 "nbformat_minor": 2
}
