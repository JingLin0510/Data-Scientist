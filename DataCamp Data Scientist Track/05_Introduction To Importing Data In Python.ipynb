{
 "cells": [
  {
   "cell_type": "markdown",
   "metadata": {},
   "source": [
    "# read a txt file"
   ]
  },
  {
   "cell_type": "code",
   "execution_count": 1,
   "metadata": {},
   "outputs": [
    {
     "name": "stdout",
     "output_type": "stream",
     "text": [
      "hello\n",
      "world\n",
      "it\n",
      "is\n",
      "a \n",
      "beautiful \n",
      "day\n",
      "!\n"
     ]
    }
   ],
   "source": [
    "#open a txt file, do not forget suffix\n",
    "file = open('dataset/filename.txt', mode = 'r')\n",
    "#apply read method on this file\n",
    "txt = file.read()\n",
    "#check file condition\n",
    "file.closed\n",
    "#print contents\n",
    "print(txt)\n",
    "#close file\n",
    "file.close()"
   ]
  },
  {
   "cell_type": "code",
   "execution_count": 2,
   "metadata": {},
   "outputs": [
    {
     "name": "stdout",
     "output_type": "stream",
     "text": [
      "world\n",
      "\n"
     ]
    }
   ],
   "source": [
    "# use context manager where variable is bound to open()\n",
    "with open('dataset/filename.txt', mode = 'r') as file:\n",
    "    file.readline()\n",
    "    print(file.readline())"
   ]
  },
  {
   "cell_type": "markdown",
   "metadata": {},
   "source": [
    "# read a flat file"
   ]
  },
  {
   "cell_type": "code",
   "execution_count": 3,
   "metadata": {},
   "outputs": [
    {
     "name": "stdout",
     "output_type": "stream",
     "text": [
      "[[ 0.2339  -0.67449]\n",
      " [ 0.2339  -0.67449]\n",
      " [ 0.2339  -0.67449]\n",
      " [ 0.2339  -0.67449]\n",
      " [ 1.4021  -0.67449]\n",
      " [ 1.4021  -0.67449]\n",
      " [ 1.4021  -0.67449]\n",
      " [ 1.4021  -0.67449]\n",
      " [ 1.3709  -0.67449]\n",
      " [ 1.3709  -0.67449]\n",
      " [ 1.3709  -0.67449]\n",
      " [ 1.3709  -0.67449]\n",
      " [ 0.5434  -0.67449]\n",
      " [ 0.5434  -0.67449]\n",
      " [ 0.5434  -0.67449]\n",
      " [ 0.5434  -0.67449]\n",
      " [ 0.0901  -0.67449]\n",
      " [ 0.0901  -0.67449]\n",
      " [ 0.0901  -0.67449]\n",
      " [ 0.0901  -0.67449]]\n",
      "<class 'numpy.ndarray'>\n",
      "(20, 2)\n"
     ]
    }
   ],
   "source": [
    "import numpy as np\n",
    "#read a csv file by numpy\n",
    "file = 'dataset/filename.csv'\n",
    "data = np.loadtxt(file, delimiter=',', skiprows=5, usecols=[1,2], dtype=None)\n",
    "print(data)\n",
    "# loadtxt creates a ndarray instead of a dataframe\n",
    "print(type(data))\n",
    "print(data.shape)"
   ]
  },
  {
   "cell_type": "code",
   "execution_count": 4,
   "metadata": {},
   "outputs": [
    {
     "ename": "ValueError",
     "evalue": "Some errors were detected !\n    Line #2 (got 5 columns instead of 4)\n    Line #3 (got 5 columns instead of 4)\n    Line #4 (got 5 columns instead of 4)\n    Line #5 (got 5 columns instead of 4)\n    Line #6 (got 5 columns instead of 4)\n    Line #7 (got 5 columns instead of 4)\n    Line #8 (got 5 columns instead of 4)\n    Line #9 (got 5 columns instead of 4)\n    Line #10 (got 5 columns instead of 4)\n    Line #11 (got 5 columns instead of 4)\n    Line #12 (got 5 columns instead of 4)\n    Line #13 (got 5 columns instead of 4)\n    Line #14 (got 5 columns instead of 4)\n    Line #15 (got 5 columns instead of 4)\n    Line #16 (got 5 columns instead of 4)\n    Line #17 (got 5 columns instead of 4)\n    Line #18 (got 5 columns instead of 4)\n    Line #19 (got 5 columns instead of 4)\n    Line #20 (got 5 columns instead of 4)\n    Line #21 (got 5 columns instead of 4)\n    Line #22 (got 5 columns instead of 4)\n    Line #23 (got 5 columns instead of 4)\n    Line #24 (got 5 columns instead of 4)\n    Line #25 (got 5 columns instead of 4)",
     "output_type": "error",
     "traceback": [
      "\u001b[1;31m---------------------------------------------------------------------------\u001b[0m",
      "\u001b[1;31mValueError\u001b[0m                                Traceback (most recent call last)",
      "\u001b[1;32m<ipython-input-4-d13069beeff4>\u001b[0m in \u001b[0;36m<module>\u001b[1;34m\u001b[0m\n\u001b[0;32m      1\u001b[0m \u001b[1;31m#default dtype of recfromcsv is None\u001b[0m\u001b[1;33m\u001b[0m\u001b[1;33m\u001b[0m\u001b[1;33m\u001b[0m\u001b[0m\n\u001b[1;32m----> 2\u001b[1;33m \u001b[0mdata\u001b[0m \u001b[1;33m=\u001b[0m \u001b[0mnp\u001b[0m\u001b[1;33m.\u001b[0m\u001b[0mrecfromcsv\u001b[0m\u001b[1;33m(\u001b[0m\u001b[0mfile\u001b[0m\u001b[1;33m,\u001b[0m \u001b[0mdelimiter\u001b[0m \u001b[1;33m=\u001b[0m \u001b[1;34m','\u001b[0m\u001b[1;33m,\u001b[0m \u001b[0mnames\u001b[0m \u001b[1;33m=\u001b[0m \u001b[1;32mTrue\u001b[0m\u001b[1;33m)\u001b[0m\u001b[1;33m\u001b[0m\u001b[1;33m\u001b[0m\u001b[0m\n\u001b[0m",
      "\u001b[1;32mD:\\Anaconda\\lib\\site-packages\\numpy\\lib\\npyio.py\u001b[0m in \u001b[0;36mrecfromcsv\u001b[1;34m(fname, **kwargs)\u001b[0m\n\u001b[0;32m   2313\u001b[0m     \u001b[0mkwargs\u001b[0m\u001b[1;33m.\u001b[0m\u001b[0msetdefault\u001b[0m\u001b[1;33m(\u001b[0m\u001b[1;34m\"delimiter\"\u001b[0m\u001b[1;33m,\u001b[0m \u001b[1;34m\",\"\u001b[0m\u001b[1;33m)\u001b[0m\u001b[1;33m\u001b[0m\u001b[1;33m\u001b[0m\u001b[0m\n\u001b[0;32m   2314\u001b[0m     \u001b[0mkwargs\u001b[0m\u001b[1;33m.\u001b[0m\u001b[0msetdefault\u001b[0m\u001b[1;33m(\u001b[0m\u001b[1;34m\"dtype\"\u001b[0m\u001b[1;33m,\u001b[0m \u001b[1;32mNone\u001b[0m\u001b[1;33m)\u001b[0m\u001b[1;33m\u001b[0m\u001b[1;33m\u001b[0m\u001b[0m\n\u001b[1;32m-> 2315\u001b[1;33m     \u001b[0moutput\u001b[0m \u001b[1;33m=\u001b[0m \u001b[0mgenfromtxt\u001b[0m\u001b[1;33m(\u001b[0m\u001b[0mfname\u001b[0m\u001b[1;33m,\u001b[0m \u001b[1;33m**\u001b[0m\u001b[0mkwargs\u001b[0m\u001b[1;33m)\u001b[0m\u001b[1;33m\u001b[0m\u001b[1;33m\u001b[0m\u001b[0m\n\u001b[0m\u001b[0;32m   2316\u001b[0m \u001b[1;33m\u001b[0m\u001b[0m\n\u001b[0;32m   2317\u001b[0m     \u001b[0musemask\u001b[0m \u001b[1;33m=\u001b[0m \u001b[0mkwargs\u001b[0m\u001b[1;33m.\u001b[0m\u001b[0mget\u001b[0m\u001b[1;33m(\u001b[0m\u001b[1;34m\"usemask\"\u001b[0m\u001b[1;33m,\u001b[0m \u001b[1;32mFalse\u001b[0m\u001b[1;33m)\u001b[0m\u001b[1;33m\u001b[0m\u001b[1;33m\u001b[0m\u001b[0m\n",
      "\u001b[1;32mD:\\Anaconda\\lib\\site-packages\\numpy\\lib\\npyio.py\u001b[0m in \u001b[0;36mgenfromtxt\u001b[1;34m(fname, dtype, comments, delimiter, skip_header, skip_footer, converters, missing_values, filling_values, usecols, names, excludelist, deletechars, replace_space, autostrip, case_sensitive, defaultfmt, unpack, usemask, loose, invalid_raise, max_rows, encoding)\u001b[0m\n\u001b[0;32m   2066\u001b[0m             \u001b[1;31m# Raise an exception ?\u001b[0m\u001b[1;33m\u001b[0m\u001b[1;33m\u001b[0m\u001b[1;33m\u001b[0m\u001b[0m\n\u001b[0;32m   2067\u001b[0m             \u001b[1;32mif\u001b[0m \u001b[0minvalid_raise\u001b[0m\u001b[1;33m:\u001b[0m\u001b[1;33m\u001b[0m\u001b[1;33m\u001b[0m\u001b[0m\n\u001b[1;32m-> 2068\u001b[1;33m                 \u001b[1;32mraise\u001b[0m \u001b[0mValueError\u001b[0m\u001b[1;33m(\u001b[0m\u001b[0merrmsg\u001b[0m\u001b[1;33m)\u001b[0m\u001b[1;33m\u001b[0m\u001b[1;33m\u001b[0m\u001b[0m\n\u001b[0m\u001b[0;32m   2069\u001b[0m             \u001b[1;31m# Issue a warning ?\u001b[0m\u001b[1;33m\u001b[0m\u001b[1;33m\u001b[0m\u001b[1;33m\u001b[0m\u001b[0m\n\u001b[0;32m   2070\u001b[0m             \u001b[1;32melse\u001b[0m\u001b[1;33m:\u001b[0m\u001b[1;33m\u001b[0m\u001b[1;33m\u001b[0m\u001b[0m\n",
      "\u001b[1;31mValueError\u001b[0m: Some errors were detected !\n    Line #2 (got 5 columns instead of 4)\n    Line #3 (got 5 columns instead of 4)\n    Line #4 (got 5 columns instead of 4)\n    Line #5 (got 5 columns instead of 4)\n    Line #6 (got 5 columns instead of 4)\n    Line #7 (got 5 columns instead of 4)\n    Line #8 (got 5 columns instead of 4)\n    Line #9 (got 5 columns instead of 4)\n    Line #10 (got 5 columns instead of 4)\n    Line #11 (got 5 columns instead of 4)\n    Line #12 (got 5 columns instead of 4)\n    Line #13 (got 5 columns instead of 4)\n    Line #14 (got 5 columns instead of 4)\n    Line #15 (got 5 columns instead of 4)\n    Line #16 (got 5 columns instead of 4)\n    Line #17 (got 5 columns instead of 4)\n    Line #18 (got 5 columns instead of 4)\n    Line #19 (got 5 columns instead of 4)\n    Line #20 (got 5 columns instead of 4)\n    Line #21 (got 5 columns instead of 4)\n    Line #22 (got 5 columns instead of 4)\n    Line #23 (got 5 columns instead of 4)\n    Line #24 (got 5 columns instead of 4)\n    Line #25 (got 5 columns instead of 4)"
     ]
    }
   ],
   "source": [
    "#default dtype of recfromcsv is None\n",
    "data = np.recfromcsv(file, delimiter = ',', names = True)"
   ]
  },
  {
   "cell_type": "markdown",
   "metadata": {},
   "source": [
    "# use Pandas to import data as dataframe"
   ]
  },
  {
   "cell_type": "code",
   "execution_count": 11,
   "metadata": {},
   "outputs": [
    {
     "name": "stdout",
     "output_type": "stream",
     "text": [
      "           power    beta1  beta2    beta3\n",
      "0:00:00  -0.9377 -0.67449      0  0.67449\n",
      "1:00:00  -0.9377 -0.67449      0  0.67449\n",
      "2:00:00  -0.9377 -0.67449      0  0.67449\n",
      "3:00:00  -0.9377 -0.67449      0  0.67449\n",
      "4:00:00   0.2339 -0.67449      0  0.67449\n",
      "5:00:00   0.2339 -0.67449      0  0.67449\n",
      "6:00:00   0.2339 -0.67449      0  0.67449\n",
      "7:00:00   0.2339 -0.67449      0  0.67449\n",
      "8:00:00   1.4021 -0.67449      0  0.67449\n",
      "9:00:00   1.4021 -0.67449      0  0.67449\n",
      "10:00:00  1.4021 -0.67449      0  0.67449\n",
      "11:00:00  1.4021 -0.67449      0  0.67449\n",
      "12:00:00  1.3709 -0.67449      0  0.67449\n",
      "13:00:00  1.3709 -0.67449      0  0.67449\n",
      "14:00:00  1.3709 -0.67449      0  0.67449\n",
      "15:00:00  1.3709 -0.67449      0  0.67449\n",
      "16:00:00  0.5434 -0.67449      0  0.67449\n",
      "17:00:00  0.5434 -0.67449      0  0.67449\n",
      "18:00:00  0.5434 -0.67449      0  0.67449\n",
      "19:00:00  0.5434 -0.67449      0  0.67449\n",
      "20:00:00  0.0901 -0.67449      0  0.67449\n",
      "21:00:00  0.0901 -0.67449      0  0.67449\n",
      "22:00:00  0.0901 -0.67449      0  0.67449\n",
      "23:00:00  0.0901 -0.67449      0  0.67449\n"
     ]
    }
   ],
   "source": [
    "import pandas as pd\n",
    "data = pd.read_csv('dataset/filename.csv', index_col = 'Unnamed: 0')\n",
    "print(data)"
   ]
  },
  {
   "cell_type": "code",
   "execution_count": null,
   "metadata": {},
   "outputs": [],
   "source": []
  }
 ],
 "metadata": {
  "kernelspec": {
   "display_name": "Python 3",
   "language": "python",
   "name": "python3"
  },
  "language_info": {
   "codemirror_mode": {
    "name": "ipython",
    "version": 3
   },
   "file_extension": ".py",
   "mimetype": "text/x-python",
   "name": "python",
   "nbconvert_exporter": "python",
   "pygments_lexer": "ipython3",
   "version": "3.7.4"
  }
 },
 "nbformat": 4,
 "nbformat_minor": 2
}
