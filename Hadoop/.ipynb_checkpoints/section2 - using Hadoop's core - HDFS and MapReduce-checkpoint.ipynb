{
 "cells": [
  {
   "cell_type": "markdown",
   "metadata": {},
   "source": [
    "HDFS architecture\n",
    "name node: keeps track of where all those blocks live; maintains an edit log that maintains what's being created, what's being modified, and what's being stored so that it can keep track of where everything is as things get moved around and new files get created\n",
    "data node: each data node is separated into several blocks\n",
    "client node"
   ]
  }
 ],
 "metadata": {
  "kernelspec": {
   "display_name": "Python 3",
   "language": "python",
   "name": "python3"
  },
  "language_info": {
   "codemirror_mode": {
    "name": "ipython",
    "version": 3
   },
   "file_extension": ".py",
   "mimetype": "text/x-python",
   "name": "python",
   "nbconvert_exporter": "python",
   "pygments_lexer": "ipython3",
   "version": "3.7.4"
  }
 },
 "nbformat": 4,
 "nbformat_minor": 2
}
