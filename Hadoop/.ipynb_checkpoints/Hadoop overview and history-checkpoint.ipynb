{
 "cells": [
  {
   "cell_type": "markdown",
   "metadata": {},
   "source": [
    "<font size = \"5\">Hadoop is and open source <b>software platform</b> for <b>distributed storage</b> and <b>distributed processing</b> of <b>very large data sets</b> on <b>computer clusters</b> built from commodity hardware</font>"
   ]
  },
  {
   "cell_type": "code",
   "execution_count": null,
   "metadata": {},
   "outputs": [],
   "source": [
    "KB kilobyte 2^10\n",
    "MB megabyte 2^20\n",
    "GB gigabyte 2^30\n",
    "TB terabyte 2^40\n",
    "PB petabyte 2^50"
   ]
  },
  {
   "cell_type": "markdown",
   "metadata": {},
   "source": [
    "HDFS hadoop distributed file system (distributed storage)\n",
    "YARN yet another resource negotiator\n",
    "MapReduce mapper: tranform data in parallel across entire computing cluster efficiently\n",
    "          reducer: aggregate mapped data together \n",
    "HDFE -> YARN -> MpReduce\n",
    "create a file system with many nodes/clusters -> a negotiator controls distribution of work load -> inner way to do job\n",
    "Pig SQL style script\n",
    "Hive taking SQL queries "
   ]
  }
 ],
 "metadata": {
  "kernelspec": {
   "display_name": "Python 3",
   "language": "python",
   "name": "python3"
  },
  "language_info": {
   "codemirror_mode": {
    "name": "ipython",
    "version": 3
   },
   "file_extension": ".py",
   "mimetype": "text/x-python",
   "name": "python",
   "nbconvert_exporter": "python",
   "pygments_lexer": "ipython3",
   "version": "3.7.4"
  }
 },
 "nbformat": 4,
 "nbformat_minor": 2
}
