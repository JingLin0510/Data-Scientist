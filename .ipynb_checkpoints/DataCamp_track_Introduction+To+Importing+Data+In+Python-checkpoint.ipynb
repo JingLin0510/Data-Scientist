{
 "cells": [
  {
   "cell_type": "markdown",
   "metadata": {},
   "source": [
    "# read a plain txt file"
   ]
  },
  {
   "cell_type": "code",
   "execution_count": 11,
   "metadata": {},
   "outputs": [
    {
     "name": "stdout",
     "output_type": "stream",
     "text": [
      "hello\n",
      "world\n",
      "it\n",
      "is\n",
      "a \n",
      "beautiful \n",
      "day\n",
      "!\n"
     ]
    }
   ],
   "source": [
    "#open a txt file, do not forget suffix\n",
    "file = open('filename.txt', mode = 'r')\n",
    "#apply read method on this file\n",
    "txt = file.read()\n",
    "#check file condition\n",
    "file.closed\n",
    "#print contents\n",
    "print(txt)\n",
    "#close file\n",
    "file.close()"
   ]
  },
  {
   "cell_type": "code",
   "execution_count": 12,
   "metadata": {},
   "outputs": [],
   "source": [
    "# use context manager where variable is bound to open()\n",
    "with open('filename.txt', mode = 'r') as file:\n",
    "    file.readline()\n",
    "    print(file.readline())"
   ]
  },
  {
   "cell_type": "code",
   "execution_count": null,
   "metadata": {},
   "outputs": [],
   "source": []
  }
 ],
 "metadata": {
  "kernelspec": {
   "display_name": "Python 3",
   "language": "python",
   "name": "python3"
  },
  "language_info": {
   "codemirror_mode": {
    "name": "ipython",
    "version": 3
   },
   "file_extension": ".py",
   "mimetype": "text/x-python",
   "name": "python",
   "nbconvert_exporter": "python",
   "pygments_lexer": "ipython3",
   "version": "3.7.4"
  }
 },
 "nbformat": 4,
 "nbformat_minor": 2
}
