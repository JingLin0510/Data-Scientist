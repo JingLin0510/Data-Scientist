{
 "cells": [
  {
   "cell_type": "markdown",
   "metadata": {},
   "source": [
    "1. Why do we need KNN?\n",
    "2. What is KNN?\n",
    "3. How do we choose the factor 'K'?\n",
    "4. When do we use KNN?\n",
    "5. How does KNN algorithm work?\n",
    "6. Use case - Predict whether a person will have diabetes or not"
   ]
  },
  {
   "cell_type": "markdown",
   "metadata": {},
   "source": [
    "Because KNN algorithm is based on feature similarity, we can do classification using KNN classifier. "
   ]
  },
  {
   "cell_type": "markdown",
   "metadata": {},
   "source": [
    "K Nearest Neighbour is one of the simplest supervised machine learning algorithms mostly used for classification. It classifies a data point based on how its neighbours classified.\n",
    "KNN stores all available classed and classifies new cases besed on a similarity measurement."
   ]
  },
  {
   "cell_type": "markdown",
   "metadata": {},
   "source": [
    "K is a parameter that refers to the number of the nearest neighbours to include in the majority voting process.\n",
    "choosing the right value of K is a process called parameter tuning, which is important for better accuracy.\n",
    "if K is too low: choose neighbours right next to could introduce high bias\n",
    "if K is too big: processing issues and resource issues\n",
    "(1) sqrt(n), where n is the number of data points\n",
    "(2) odd value of K is selected to avoide confusion between two classes of data"
   ]
  },
  {
   "cell_type": "markdown",
   "metadata": {},
   "source": [
    "(1) data is labeled\n",
    "(2) data is noise free\n",
    "(3) dataset is small. KNN doesn't learn a discriminative function from training data"
   ]
  },
  {
   "cell_type": "code",
   "execution_count": null,
   "metadata": {},
   "outputs": [],
   "source": []
  }
 ],
 "metadata": {
  "kernelspec": {
   "display_name": "Python 3",
   "language": "python",
   "name": "python3"
  },
  "language_info": {
   "codemirror_mode": {
    "name": "ipython",
    "version": 3
   },
   "file_extension": ".py",
   "mimetype": "text/x-python",
   "name": "python",
   "nbconvert_exporter": "python",
   "pygments_lexer": "ipython3",
   "version": "3.7.4"
  }
 },
 "nbformat": 4,
 "nbformat_minor": 2
}
